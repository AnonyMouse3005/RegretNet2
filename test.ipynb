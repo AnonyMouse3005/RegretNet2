{
 "cells": [
  {
   "cell_type": "code",
   "execution_count": 1,
   "metadata": {},
   "outputs": [],
   "source": [
    "import pickle\n"
   ]
  },
  {
   "cell_type": "code",
   "execution_count": 2,
   "metadata": {},
   "outputs": [],
   "source": [
    "with open('data/all_data_train.pkl', 'rb') as f:\n",
    "    data_train = pickle.load(f)\n",
    "with open('data/all_data_test.pkl', 'rb') as f:\n",
    "    data_test = pickle.load(f)"
   ]
  },
  {
   "cell_type": "code",
   "execution_count": 3,
   "metadata": {},
   "outputs": [
    {
     "data": {
      "text/plain": [
       "dict_keys([('uniform', 5), ('normal', 5), ('beta1', 5), ('beta2', 5), ('uniform', 9), ('normal', 9), ('beta1', 9), ('beta2', 9), ('uniform', 10), ('normal', 10), ('beta1', 10), ('beta2', 10), ('uniform', 100), ('normal', 100), ('beta1', 100), ('beta2', 100)])"
      ]
     },
     "execution_count": 3,
     "metadata": {},
     "output_type": "execute_result"
    }
   ],
   "source": [
    "data_train.keys()"
   ]
  },
  {
   "cell_type": "code",
   "execution_count": 4,
   "metadata": {},
   "outputs": [
    {
     "name": "stdout",
     "output_type": "stream",
     "text": [
      "TRAIN\n",
      "================\n",
      "('uniform', 5) (1000, 5) (10000, 5)\n",
      "('normal', 5) (1000, 5) (10000, 5)\n",
      "('beta1', 5) (1000, 5) (10000, 5)\n",
      "('beta2', 5) (1000, 5) (10000, 5)\n",
      "('uniform', 9) (1000, 9) (10000, 9)\n",
      "('normal', 9) (1000, 9) (10000, 9)\n",
      "('beta1', 9) (1000, 9) (10000, 9)\n",
      "('beta2', 9) (1000, 9) (10000, 9)\n",
      "('uniform', 10) (1000, 10) (10000, 10)\n",
      "('normal', 10) (1000, 10) (10000, 10)\n",
      "('beta1', 10) (1000, 10) (10000, 10)\n",
      "('beta2', 10) (1000, 10) (10000, 10)\n",
      "('uniform', 100) (1000, 100) (10000, 100)\n",
      "('normal', 100) (1000, 100) (10000, 100)\n",
      "('beta1', 100) (1000, 100) (10000, 100)\n",
      "('beta2', 100) (1000, 100) (10000, 100)\n",
      "TEST\n",
      "================\n",
      "('uniform', 5) (1000, 5) (10000, 5)\n",
      "('normal', 5) (1000, 5) (10000, 5)\n",
      "('beta1', 5) (1000, 5) (10000, 5)\n",
      "('beta2', 5) (1000, 5) (10000, 5)\n",
      "('uniform', 9) (1000, 9) (10000, 9)\n",
      "('normal', 9) (1000, 9) (10000, 9)\n",
      "('beta1', 9) (1000, 9) (10000, 9)\n",
      "('beta2', 9) (1000, 9) (10000, 9)\n",
      "('uniform', 10) (1000, 10) (10000, 10)\n",
      "('normal', 10) (1000, 10) (10000, 10)\n",
      "('beta1', 10) (1000, 10) (10000, 10)\n",
      "('beta2', 10) (1000, 10) (10000, 10)\n",
      "('uniform', 100) (1000, 100) (10000, 100)\n",
      "('normal', 100) (1000, 100) (10000, 100)\n",
      "('beta1', 100) (1000, 100) (10000, 100)\n",
      "('beta2', 100) (1000, 100) (10000, 100)\n"
     ]
    }
   ],
   "source": [
    "print('TRAIN\\n================')\n",
    "for k, v in data_train.items():\n",
    "    print(k, v['peaks'].shape, v['misreports'].shape)  # 10 misreports for each true peak\n",
    "print('TEST\\n================')\n",
    "for k, v in data_test.items():\n",
    "    print(k, v['peaks'].shape, v['misreports'].shape)"
   ]
  },
  {
   "cell_type": "code",
   "execution_count": 5,
   "metadata": {},
   "outputs": [
    {
     "data": {
      "text/plain": [
       "array([[0.5039443 , 0.5855777 , 0.78223276, ..., 0.24343649, 0.3396893 ,\n",
       "        0.07658019],\n",
       "       [0.42066553, 0.6880057 , 0.5690673 , ..., 0.79018   , 0.11486059,\n",
       "        0.4965267 ],\n",
       "       [0.96950126, 0.71614546, 0.9596798 , ..., 0.03431018, 0.53032523,\n",
       "        0.36546528],\n",
       "       ...,\n",
       "       [0.96977115, 0.10408328, 0.06122942, ..., 0.47544563, 0.34001413,\n",
       "        0.11937931],\n",
       "       [0.18841879, 0.33263066, 0.45499766, ..., 0.67704517, 0.20515501,\n",
       "        0.77539927],\n",
       "       [0.90750474, 0.43662822, 0.81475604, ..., 0.25916618, 0.70891607,\n",
       "        0.6505097 ]], dtype=float32)"
      ]
     },
     "execution_count": 5,
     "metadata": {},
     "output_type": "execute_result"
    }
   ],
   "source": [
    "data_train[('uniform', 100)]['misreports']"
   ]
  }
 ],
 "metadata": {
  "kernelspec": {
   "display_name": "ml-basic",
   "language": "python",
   "name": "python3"
  },
  "language_info": {
   "codemirror_mode": {
    "name": "ipython",
    "version": 3
   },
   "file_extension": ".py",
   "mimetype": "text/x-python",
   "name": "python",
   "nbconvert_exporter": "python",
   "pygments_lexer": "ipython3",
   "version": "3.9.12"
  }
 },
 "nbformat": 4,
 "nbformat_minor": 2
}
